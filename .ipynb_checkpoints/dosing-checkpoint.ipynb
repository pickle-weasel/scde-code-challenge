{
 "cells": [
  {
   "cell_type": "code",
   "execution_count": 1,
   "metadata": {},
   "outputs": [],
   "source": [
    "import pandas as pd"
   ]
  },
  {
   "cell_type": "code",
   "execution_count": 2,
   "metadata": {},
   "outputs": [],
   "source": [
    "# Read the following files into a dataframe:\n",
    "\n",
    "ec_df = pd.read_csv('t2_ec 20190619.csv')\n",
    "\n",
    "reg_df = pd.read_csv('t2_registry 20190619.csv')"
   ]
  },
  {
   "cell_type": "code",
   "execution_count": 3,
   "metadata": {},
   "outputs": [],
   "source": [
    "# Merge the dataframes:\n",
    "# type of merge: left\n",
    "# t2_registry 20190619.csv (use as left dataframe)\n",
    "# merge on RID and VISCODE\n",
    "\n",
    "merged_df = reg_df.merge(ec_df, how='left', on=['RID', 'VISCODE'])"
   ]
  },
  {
   "cell_type": "code",
   "execution_count": 4,
   "metadata": {},
   "outputs": [],
   "source": [
    "# Filter records where:\n",
    "# registry.viscode is w02\n",
    "# registry.svdose is Y\n",
    "# ECSDSTXT is not 280\n",
    "\n",
    "filtered_df = merged_df.loc[(merged_df['VISCODE'] == 'w02') & \n",
    "                            (merged_df['SVDOSE'] == 'Y') & \n",
    "                            (merged_df['ECSDSTXT'] != 280)]"
   ]
  },
  {
   "cell_type": "code",
   "execution_count": 5,
   "metadata": {},
   "outputs": [],
   "source": [
    "# Create a new .csv file:\n",
    "# entitled results.csv\n",
    "# should not include pandas dataframe indexes\n",
    "# only include the following columns:\n",
    "# ID, RID, USERID, VISCODE, SVDOSE, ECSDSTXT\n",
    "\n",
    "filtered_df.to_csv('results.csv', index=False, columns=['ID_x', 'RID', 'USERID_x', 'VISCODE', 'SVDOSE', 'ECSDSTXT'])"
   ]
  },
  {
   "cell_type": "code",
   "execution_count": null,
   "metadata": {},
   "outputs": [],
   "source": []
  }
 ],
 "metadata": {
  "kernelspec": {
   "display_name": "Python 3",
   "language": "python",
   "name": "python3"
  },
  "language_info": {
   "codemirror_mode": {
    "name": "ipython",
    "version": 3
   },
   "file_extension": ".py",
   "mimetype": "text/x-python",
   "name": "python",
   "nbconvert_exporter": "python",
   "pygments_lexer": "ipython3",
   "version": "3.7.3"
  }
 },
 "nbformat": 4,
 "nbformat_minor": 2
}
